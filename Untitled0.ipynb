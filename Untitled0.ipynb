{
  "nbformat": 4,
  "nbformat_minor": 0,
  "metadata": {
    "colab": {
      "name": "Untitled0.ipynb",
      "provenance": [],
      "collapsed_sections": [],
      "authorship_tag": "ABX9TyOyVKJ13InbELX/wVDT9jfV",
      "include_colab_link": true
    },
    "kernelspec": {
      "name": "python3",
      "display_name": "Python 3"
    }
  },
  "cells": [
    {
      "cell_type": "markdown",
      "metadata": {
        "id": "view-in-github",
        "colab_type": "text"
      },
      "source": [
        "<a href=\"https://colab.research.google.com/github/F4B123/pruebrep/blob/master/Untitled0.ipynb\" target=\"_parent\"><img src=\"https://colab.research.google.com/assets/colab-badge.svg\" alt=\"Open In Colab\"/></a>"
      ]
    },
    {
      "cell_type": "code",
      "metadata": {
        "id": "XsbSGCM18mJa",
        "colab_type": "code",
        "colab": {}
      },
      "source": [
        "%matplotlib inline\n",
        "import matplotlib.pyplot as plt\n",
        "import pandas as pd"
      ],
      "execution_count": 1,
      "outputs": []
    },
    {
      "cell_type": "code",
      "metadata": {
        "id": "MMI-tOJf82Wk",
        "colab_type": "code",
        "colab": {}
      },
      "source": [
        "import plotly\n"
      ],
      "execution_count": 7,
      "outputs": []
    },
    {
      "cell_type": "code",
      "metadata": {
        "id": "Q9Ptvfk2-he0",
        "colab_type": "code",
        "colab": {}
      },
      "source": [
        "import IPython\n",
        "\n",
        "from plotly.offline import iplot\n",
        "import plotly.graph_objs as go\n",
        "import plotly.figure_factory as ff\n",
        "from plotly.offline import init_notebook_mode"
      ],
      "execution_count": 8,
      "outputs": []
    },
    {
      "cell_type": "code",
      "metadata": {
        "id": "G19UdidS-kOq",
        "colab_type": "code",
        "colab": {}
      },
      "source": [
        "def configure_plotly_browser_state():\n",
        "  import IPython\n",
        "  display(IPython.core.display.HTML('''\n",
        "        <script src=\"/static/components/requirejs/require.js\"></script>\n",
        "        <script>\n",
        "          requirejs.config({\n",
        "            paths: {\n",
        "              base: '/static/base',\n",
        "              plotly: 'https://cdn.plot.ly/plotly-1.5.1.min.js?noext',\n",
        "            },\n",
        "          });\n",
        "        </script>\n",
        "        '''))"
      ],
      "execution_count": 9,
      "outputs": []
    },
    {
      "cell_type": "code",
      "metadata": {
        "id": "mKAEoQKi-nbS",
        "colab_type": "code",
        "colab": {}
      },
      "source": [
        "df = pd.read_csv('datasets_756571_1470005_race_wins_1950-2020.csv', sep=',', encoding='latin-1')\n"
      ],
      "execution_count": 31,
      "outputs": []
    },
    {
      "cell_type": "code",
      "metadata": {
        "id": "ymKdt1dMCwtj",
        "colab_type": "code",
        "colab": {
          "base_uri": "https://localhost:8080/",
          "height": 221
        },
        "outputId": "b318dd47-49b3-4a96-cf99-ea0c21a296e5"
      },
      "source": [
        "turbo_era = pd.read_csv('datasets_756571_1470005_race_wins_1950-2020.csv', sep=',', encoding='latin-1')\n",
        "a = turbo_era['Unnamed: 0']\n",
        "a = a[]\n",
        "#a = a.tail(1)\n",
        "a\n"
      ],
      "execution_count": 52,
      "outputs": [
        {
          "output_type": "execute_result",
          "data": {
            "text/plain": [
              "0          0\n",
              "1          1\n",
              "2          2\n",
              "3          3\n",
              "4          4\n",
              "        ... \n",
              "1024    1024\n",
              "1025    1025\n",
              "1026    1026\n",
              "1027    1027\n",
              "1028    1028\n",
              "Name: Unnamed: 0, Length: 1029, dtype: int64"
            ]
          },
          "metadata": {
            "tags": []
          },
          "execution_count": 52
        }
      ]
    },
    {
      "cell_type": "code",
      "metadata": {
        "id": "2GZEvW7WD3gc",
        "colab_type": "code",
        "colab": {
          "base_uri": "https://localhost:8080/",
          "height": 306
        },
        "outputId": "4d35c392-6a0b-430f-9c15-5668868bd1b8"
      },
      "source": [
        "df = df.tail(a.tail(1)-900)"
      ],
      "execution_count": 46,
      "outputs": [
        {
          "output_type": "error",
          "ename": "ValueError",
          "evalue": "ignored",
          "traceback": [
            "\u001b[0;31m---------------------------------------------------------------------------\u001b[0m",
            "\u001b[0;31mValueError\u001b[0m                                Traceback (most recent call last)",
            "\u001b[0;32m<ipython-input-46-964522bfb003>\u001b[0m in \u001b[0;36m<module>\u001b[0;34m()\u001b[0m\n\u001b[0;32m----> 1\u001b[0;31m \u001b[0mdf\u001b[0m \u001b[0;34m=\u001b[0m \u001b[0mdf\u001b[0m\u001b[0;34m.\u001b[0m\u001b[0mtail\u001b[0m\u001b[0;34m(\u001b[0m\u001b[0ma\u001b[0m\u001b[0;34m.\u001b[0m\u001b[0mtail\u001b[0m\u001b[0;34m(\u001b[0m\u001b[0;36m1\u001b[0m\u001b[0;34m)\u001b[0m\u001b[0;34m-\u001b[0m\u001b[0;36m900\u001b[0m\u001b[0;34m)\u001b[0m\u001b[0;34m\u001b[0m\u001b[0;34m\u001b[0m\u001b[0m\n\u001b[0m",
            "\u001b[0;32m/usr/local/lib/python3.6/dist-packages/pandas/core/generic.py\u001b[0m in \u001b[0;36mtail\u001b[0;34m(self, n)\u001b[0m\n\u001b[1;32m   4860\u001b[0m         \"\"\"\n\u001b[1;32m   4861\u001b[0m \u001b[0;34m\u001b[0m\u001b[0m\n\u001b[0;32m-> 4862\u001b[0;31m         \u001b[0;32mif\u001b[0m \u001b[0mn\u001b[0m \u001b[0;34m==\u001b[0m \u001b[0;36m0\u001b[0m\u001b[0;34m:\u001b[0m\u001b[0;34m\u001b[0m\u001b[0;34m\u001b[0m\u001b[0m\n\u001b[0m\u001b[1;32m   4863\u001b[0m             \u001b[0;32mreturn\u001b[0m \u001b[0mself\u001b[0m\u001b[0;34m.\u001b[0m\u001b[0miloc\u001b[0m\u001b[0;34m[\u001b[0m\u001b[0;36m0\u001b[0m\u001b[0;34m:\u001b[0m\u001b[0;36m0\u001b[0m\u001b[0;34m]\u001b[0m\u001b[0;34m\u001b[0m\u001b[0;34m\u001b[0m\u001b[0m\n\u001b[1;32m   4864\u001b[0m         \u001b[0;32mreturn\u001b[0m \u001b[0mself\u001b[0m\u001b[0;34m.\u001b[0m\u001b[0miloc\u001b[0m\u001b[0;34m[\u001b[0m\u001b[0;34m-\u001b[0m\u001b[0mn\u001b[0m\u001b[0;34m:\u001b[0m\u001b[0;34m]\u001b[0m\u001b[0;34m\u001b[0m\u001b[0;34m\u001b[0m\u001b[0m\n",
            "\u001b[0;32m/usr/local/lib/python3.6/dist-packages/pandas/core/generic.py\u001b[0m in \u001b[0;36m__nonzero__\u001b[0;34m(self)\u001b[0m\n\u001b[1;32m   1477\u001b[0m     \u001b[0;32mdef\u001b[0m \u001b[0m__nonzero__\u001b[0m\u001b[0;34m(\u001b[0m\u001b[0mself\u001b[0m\u001b[0;34m)\u001b[0m\u001b[0;34m:\u001b[0m\u001b[0;34m\u001b[0m\u001b[0;34m\u001b[0m\u001b[0m\n\u001b[1;32m   1478\u001b[0m         raise ValueError(\n\u001b[0;32m-> 1479\u001b[0;31m             \u001b[0;34mf\"The truth value of a {type(self).__name__} is ambiguous. \"\u001b[0m\u001b[0;34m\u001b[0m\u001b[0;34m\u001b[0m\u001b[0m\n\u001b[0m\u001b[1;32m   1480\u001b[0m             \u001b[0;34m\"Use a.empty, a.bool(), a.item(), a.any() or a.all().\"\u001b[0m\u001b[0;34m\u001b[0m\u001b[0;34m\u001b[0m\u001b[0m\n\u001b[1;32m   1481\u001b[0m         )\n",
            "\u001b[0;31mValueError\u001b[0m: The truth value of a Series is ambiguous. Use a.empty, a.bool(), a.item(), a.any() or a.all()."
          ]
        }
      ]
    },
    {
      "cell_type": "code",
      "metadata": {
        "id": "3syEB-My_bmz",
        "colab_type": "code",
        "colab": {
          "base_uri": "https://localhost:8080/",
          "height": 272
        },
        "outputId": "827df33c-6968-4aec-b9e9-2ba3ccf5883f"
      },
      "source": [
        "df.info('Unnamed: 0')"
      ],
      "execution_count": 40,
      "outputs": [
        {
          "output_type": "stream",
          "text": [
            "<class 'pandas.core.frame.DataFrame'>\n",
            "RangeIndex: 129 entries, 900 to 1028\n",
            "Data columns (total 8 columns):\n",
            " #   Column      Non-Null Count  Dtype  \n",
            "---  ------      --------------  -----  \n",
            " 0   Unnamed: 0  129 non-null    int64  \n",
            " 1   Venue       129 non-null    object \n",
            " 2   Date        129 non-null    object \n",
            " 3   Name        129 non-null    object \n",
            " 4   NameTag     129 non-null    object \n",
            " 5   Team        129 non-null    object \n",
            " 6   Laps        129 non-null    float64\n",
            " 7   Time        129 non-null    object \n",
            "dtypes: float64(1), int64(1), object(6)\n",
            "memory usage: 8.2+ KB\n"
          ],
          "name": "stdout"
        }
      ]
    },
    {
      "cell_type": "code",
      "metadata": {
        "id": "HP-QJ7vLBhb0",
        "colab_type": "code",
        "colab": {
          "base_uri": "https://localhost:8080/",
          "height": 419
        },
        "outputId": "ac5bc515-1b08-4823-cd71-46680d07c353"
      },
      "source": [
        "df = df.tail(129)\n",
        "df"
      ],
      "execution_count": 32,
      "outputs": [
        {
          "output_type": "execute_result",
          "data": {
            "text/html": [
              "<div>\n",
              "<style scoped>\n",
              "    .dataframe tbody tr th:only-of-type {\n",
              "        vertical-align: middle;\n",
              "    }\n",
              "\n",
              "    .dataframe tbody tr th {\n",
              "        vertical-align: top;\n",
              "    }\n",
              "\n",
              "    .dataframe thead th {\n",
              "        text-align: right;\n",
              "    }\n",
              "</style>\n",
              "<table border=\"1\" class=\"dataframe\">\n",
              "  <thead>\n",
              "    <tr style=\"text-align: right;\">\n",
              "      <th></th>\n",
              "      <th>Unnamed: 0</th>\n",
              "      <th>Venue</th>\n",
              "      <th>Date</th>\n",
              "      <th>Name</th>\n",
              "      <th>NameTag</th>\n",
              "      <th>Team</th>\n",
              "      <th>Laps</th>\n",
              "      <th>Time</th>\n",
              "    </tr>\n",
              "  </thead>\n",
              "  <tbody>\n",
              "    <tr>\n",
              "      <th>900</th>\n",
              "      <td>900</td>\n",
              "      <td>Australia</td>\n",
              "      <td>16 Mar 2014</td>\n",
              "      <td>Nico Rosberg</td>\n",
              "      <td>ROS</td>\n",
              "      <td>Mercedes</td>\n",
              "      <td>57.0</td>\n",
              "      <td>1:32:58.710</td>\n",
              "    </tr>\n",
              "    <tr>\n",
              "      <th>901</th>\n",
              "      <td>901</td>\n",
              "      <td>Malaysia</td>\n",
              "      <td>30 Mar 2014</td>\n",
              "      <td>Lewis Hamilton</td>\n",
              "      <td>HAM</td>\n",
              "      <td>Mercedes</td>\n",
              "      <td>56.0</td>\n",
              "      <td>1:40:25.974</td>\n",
              "    </tr>\n",
              "    <tr>\n",
              "      <th>902</th>\n",
              "      <td>902</td>\n",
              "      <td>Bahrain</td>\n",
              "      <td>06 Apr 2014</td>\n",
              "      <td>Lewis Hamilton</td>\n",
              "      <td>HAM</td>\n",
              "      <td>Mercedes</td>\n",
              "      <td>57.0</td>\n",
              "      <td>1:39:42.743</td>\n",
              "    </tr>\n",
              "    <tr>\n",
              "      <th>903</th>\n",
              "      <td>903</td>\n",
              "      <td>China</td>\n",
              "      <td>20 Apr 2014</td>\n",
              "      <td>Lewis Hamilton</td>\n",
              "      <td>HAM</td>\n",
              "      <td>Mercedes</td>\n",
              "      <td>54.0</td>\n",
              "      <td>1:33:28.338</td>\n",
              "    </tr>\n",
              "    <tr>\n",
              "      <th>904</th>\n",
              "      <td>904</td>\n",
              "      <td>Spain</td>\n",
              "      <td>11 May 2014</td>\n",
              "      <td>Lewis Hamilton</td>\n",
              "      <td>HAM</td>\n",
              "      <td>Mercedes</td>\n",
              "      <td>66.0</td>\n",
              "      <td>1:41:05.155</td>\n",
              "    </tr>\n",
              "    <tr>\n",
              "      <th>...</th>\n",
              "      <td>...</td>\n",
              "      <td>...</td>\n",
              "      <td>...</td>\n",
              "      <td>...</td>\n",
              "      <td>...</td>\n",
              "      <td>...</td>\n",
              "      <td>...</td>\n",
              "      <td>...</td>\n",
              "    </tr>\n",
              "    <tr>\n",
              "      <th>1024</th>\n",
              "      <td>1024</td>\n",
              "      <td>Great Britain</td>\n",
              "      <td>02 Aug 2020</td>\n",
              "      <td>Lewis Hamilton</td>\n",
              "      <td>HAM</td>\n",
              "      <td>Mercedes</td>\n",
              "      <td>52.0</td>\n",
              "      <td>1:28:01.283</td>\n",
              "    </tr>\n",
              "    <tr>\n",
              "      <th>1025</th>\n",
              "      <td>1025</td>\n",
              "      <td>70th Anniversary</td>\n",
              "      <td>09 Aug 2020</td>\n",
              "      <td>Max Verstappen</td>\n",
              "      <td>VER</td>\n",
              "      <td>Red Bull Racing Honda</td>\n",
              "      <td>52.0</td>\n",
              "      <td>1:19:41.993</td>\n",
              "    </tr>\n",
              "    <tr>\n",
              "      <th>1026</th>\n",
              "      <td>1026</td>\n",
              "      <td>Spain</td>\n",
              "      <td>16 Aug 2020</td>\n",
              "      <td>Lewis Hamilton</td>\n",
              "      <td>HAM</td>\n",
              "      <td>Mercedes</td>\n",
              "      <td>66.0</td>\n",
              "      <td>1:31:45.279</td>\n",
              "    </tr>\n",
              "    <tr>\n",
              "      <th>1027</th>\n",
              "      <td>1027</td>\n",
              "      <td>Belgium</td>\n",
              "      <td>30 Aug 2020</td>\n",
              "      <td>Lewis Hamilton</td>\n",
              "      <td>HAM</td>\n",
              "      <td>Mercedes</td>\n",
              "      <td>44.0</td>\n",
              "      <td>1:24:08.761</td>\n",
              "    </tr>\n",
              "    <tr>\n",
              "      <th>1028</th>\n",
              "      <td>1028</td>\n",
              "      <td>Italy</td>\n",
              "      <td>06 Sep 2020</td>\n",
              "      <td>Pierre Gasly</td>\n",
              "      <td>GAS</td>\n",
              "      <td>AlphaTauri Honda</td>\n",
              "      <td>53.0</td>\n",
              "      <td>1:47:06.056</td>\n",
              "    </tr>\n",
              "  </tbody>\n",
              "</table>\n",
              "<p>129 rows × 8 columns</p>\n",
              "</div>"
            ],
            "text/plain": [
              "      Unnamed: 0             Venue  ...  Laps         Time\n",
              "900          900         Australia  ...  57.0  1:32:58.710\n",
              "901          901          Malaysia  ...  56.0  1:40:25.974\n",
              "902          902           Bahrain  ...  57.0  1:39:42.743\n",
              "903          903             China  ...  54.0  1:33:28.338\n",
              "904          904             Spain  ...  66.0  1:41:05.155\n",
              "...          ...               ...  ...   ...          ...\n",
              "1024        1024     Great Britain  ...  52.0  1:28:01.283\n",
              "1025        1025  70th Anniversary  ...  52.0  1:19:41.993\n",
              "1026        1026             Spain  ...  66.0  1:31:45.279\n",
              "1027        1027           Belgium  ...  44.0  1:24:08.761\n",
              "1028        1028             Italy  ...  53.0  1:47:06.056\n",
              "\n",
              "[129 rows x 8 columns]"
            ]
          },
          "metadata": {
            "tags": []
          },
          "execution_count": 32
        }
      ]
    }
  ]
}